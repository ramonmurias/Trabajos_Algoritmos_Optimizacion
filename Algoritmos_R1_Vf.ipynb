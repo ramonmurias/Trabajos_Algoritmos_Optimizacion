{
  "cells": [
    {
      "cell_type": "markdown",
      "metadata": {
        "id": "view-in-github",
        "colab_type": "text"
      },
      "source": [
        "<a href=\"https://colab.research.google.com/github/ramonmurias/Trabajos_Algoritmos_Optimizacion/blob/main/Algoritmos_R1_Vf.ipynb\" target=\"_parent\"><img src=\"https://colab.research.google.com/assets/colab-badge.svg\" alt=\"Open In Colab\"/></a>"
      ]
    },
    {
      "cell_type": "markdown",
      "metadata": {
        "id": "kQn6fbhgtH9I"
      },
      "source": [
        "# Algoritmos de optimización - Reto 1\n",
        "\n",
        "Nombre: Ramón Murias \\\\\n",
        "Github: https://github.com/ramonmurias/Trabajos_Algoritmos_Optimizacion"
      ]
    },
    {
      "cell_type": "markdown",
      "metadata": {
        "id": "_t62Ge7ZuKnC"
      },
      "source": [
        "## Torres de Hanoi con Divide y vencerás\n",
        "\n",
        "Resuelve el problema de las [Torres de Hanoi](https://es.wikipedia.org/wiki/Torres_de_Han%C3%B3i) para un número arbitrario de fichas utilizando la técnica de divide y vencerás."
      ]
    },
    {
      "cell_type": "code",
      "execution_count": null,
      "metadata": {
        "colab": {
          "base_uri": "https://localhost:8080/"
        },
        "id": "i32G0CUQvauE",
        "outputId": "2c73906c-0451-484f-a6ba-50e4b0ae88f2"
      },
      "outputs": [
        {
          "output_type": "stream",
          "name": "stdout",
          "text": [
            "Hay que  mover 1 de A a C\n",
            "Mover disco 2 de A a C\n",
            "Hay que  mover 1 de B a A\n",
            "Mover disco 3 de A a C\n",
            "Hay que  mover 1 de B a A\n",
            "Mover disco 2 de B a A\n",
            "Hay que  mover 1 de C a B\n"
          ]
        }
      ],
      "source": [
        "# Torres de Hanoi\n",
        "def hanoi(nFichas, origen, medio, destino):\n",
        "  '''\n",
        "Comencemos por definir una función llamada hanoi que tomará cuatro\n",
        "argumentos: el número de discos (nFichas), y los nombres de las tres torres\n",
        "(origen, destino, medio).\n",
        "  '''\n",
        "  if nFichas == 1:\n",
        "    print(\"Hay que  mover {} de {} a {}\".format(nFichas, origen, destino))\n",
        "    return\n",
        "  '''\n",
        "En primer lugar, necesitamos manejar el caso base de nuestra recursión, que es\n",
        "cuando solo hay un disco en la torre. En este caso, simplemente imprimimos el\n",
        "movimiento necesario para mover el disco de la torre de origen a la torre de\n",
        "destino.\n",
        "  '''\n",
        "  hanoi(nFichas - 1, origen, medio, destino)\n",
        "  print(\"Mover disco {} de {} a {}\".format(nFichas, origen, destino))\n",
        "  hanoi(nFichas - 1, medio, destino, origen)\n",
        "  '''\n",
        "Ahora viene la parte recursiva. Llamaremos recursivamente a la función hanoi\n",
        "dos veces:\n",
        "La primera llamada moverá los nFichas-1 discos superiores de la torre de origen\n",
        "a la torre medio, utilizando la torre de destino como torre de destino temporal.\n",
        "La segunda llamada moverá el disco restante (el más grande) de la torre de\n",
        "origen a la torre de destino.\n",
        "Finalmente, la tercera llamada moverá los nFichas-1 discos de la torre medio a\n",
        "la torre de destino, utilizando la torre de origen como torre de origen temporal\n",
        "  '''\n",
        "\n",
        "num_discos = 3\n",
        "hanoi(num_discos, 'A', 'B', 'C')"
      ]
    },
    {
      "cell_type": "markdown",
      "metadata": {
        "id": "5fe8KvAzGyZN"
      },
      "source": [
        "## Sucesión de Fibonacci\n",
        "\n",
        "Cálcula el n-ésimo término de la [Sucesión de Fibonacci](https://es.wikipedia.org/wiki/Sucesi%C3%B3n_de_Fibonacci) mediante un algoritmo recursivo y otro iterativo. Representa gráficamente cómo crece el tiempo de cómputo en función del número de términos para ambos algoritmos."
      ]
    },
    {
      "cell_type": "code",
      "execution_count": null,
      "metadata": {
        "colab": {
          "base_uri": "https://localhost:8080/"
        },
        "id": "74qZZAekiNYR",
        "outputId": "1f55a417-78b6-4125-f181-8b854fda8678"
      },
      "outputs": [
        {
          "output_type": "execute_result",
          "data": {
            "text/plain": [
              "9227465"
            ]
          },
          "metadata": {},
          "execution_count": 15
        }
      ],
      "source": [
        "#Sucesión_de_Fibonacci\n",
        "def fiboItera(n):\n",
        "  '''\n",
        "  Definimos los casos de salida borde\n",
        "  '''\n",
        "  if n <= 0:\n",
        "    print(\"Número no valido, ingresar n > 0.\")\n",
        "  if n == 1:\n",
        "    return 1\n",
        "  if n == 2:\n",
        "    return 1\n",
        "  indexAux = [0,1]\n",
        "  valueAux = [1,1]\n",
        "  for i in range(2,n):\n",
        "    suma = sum(valueAux[len(valueAux)-2:])\n",
        "    valueAux.append(suma)\n",
        "    indexAux.append(i)\n",
        "  '''\n",
        "  Acá vamos sumando los elementos del vector, haciendo una suerte de cumsum()\n",
        "  y finalmente al seleccionar los últimos dos elementos, podremos generar\n",
        "  el (n+1) elemento\n",
        "  '''\n",
        "  return valueAux[len(valueAux)-1]\n",
        "\n",
        "print(fiboItera(30))\n",
        "print(fiboItera(35))"
      ]
    },
    {
      "cell_type": "code",
      "source": [
        "def fiboRecursi(n):\n",
        "  '''\n",
        "  Definimos los casos de salida borde y luego llamamos a la forma recursiva\n",
        "  que en el caso de la secuencia de Fibonacci es bastante directa.\n",
        "  '''\n",
        "  if n == 1:\n",
        "    return 1\n",
        "  if n == 2:\n",
        "    return 1\n",
        "  else:\n",
        "    return fiboRecursi(n-1) + fiboRecursi(n-2)\n",
        "\n",
        "print(fiboRecursi(30))\n",
        "print(fiboRecursi(35))"
      ],
      "metadata": {
        "colab": {
          "base_uri": "https://localhost:8080/"
        },
        "id": "sx-6Kp-sUP0d",
        "outputId": "bdb26ec8-9ce1-4e00-9d0b-8b2507bad7d9"
      },
      "execution_count": null,
      "outputs": [
        {
          "output_type": "execute_result",
          "data": {
            "text/plain": [
              "9227465"
            ]
          },
          "metadata": {},
          "execution_count": 16
        }
      ]
    },
    {
      "cell_type": "code",
      "source": [
        "import matplotlib.pyplot as plt\n",
        "import time\n",
        "\n",
        "# Generar los números de Fibonacci y medir el tiempo de ejecución para cada valor de n\n",
        "fib_recursive_times = []\n",
        "fib_iterative_times = []\n",
        "n_values = range(1, 30)  # Probamos hasta acá porque después suben mucho el consumo\n",
        "\n",
        "for n in n_values:\n",
        "    # Medir el tiempo de ejecución para la función recursiva\n",
        "    start_time_recursive = time.time()\n",
        "    fiboRecursi(n)  # Llama a función recursiva\n",
        "    end_time_recursive = time.time()\n",
        "    fib_recursive_times.append(end_time_recursive - start_time_recursive)\n",
        "\n",
        "    # Medir el tiempo de ejecución para la función iterativa\n",
        "    start_time_iterative = time.time()\n",
        "    fiboItera(n)  # Llama a función iterativa\n",
        "    end_time_iterative = time.time()\n",
        "    fib_iterative_times.append(end_time_iterative - start_time_iterative)\n",
        "\n",
        "# Graficar los resultados\n",
        "plt.plot(n_values, fib_recursive_times, label='Recursivo')\n",
        "plt.plot(n_values, fib_iterative_times, label='Iterativo')\n",
        "plt.xlabel('Valor de n')\n",
        "plt.ylabel('Tiempo de ejecución (segundos)')\n",
        "plt.title('Tiempo de ejecución de Fibonacci recursivo vs. iterativo')\n",
        "plt.legend()\n",
        "plt.show()"
      ],
      "metadata": {
        "colab": {
          "base_uri": "https://localhost:8080/",
          "height": 472
        },
        "id": "lkzCcx9xZIfw",
        "outputId": "1f33982d-d105-4136-8c3e-d868eafcc46c"
      },
      "execution_count": null,
      "outputs": [
        {
          "output_type": "display_data",
          "data": {
            "text/plain": [
              "<Figure size 640x480 with 1 Axes>"
            ],
            "image/png": "[encoded data removed]"
          },
          "metadata": {}
        }
      ]
    },
    {
      "cell_type": "markdown",
      "source": [
        "Donde podemos ver que para valores $n$ pequeños, los tiempos son bastante similares, pero ya a medida que va avanzando $n$, el tiempo de la alternativa recursiva se dispara con respecto a su par iterativo."
      ],
      "metadata": {
        "id": "_Cok8S9uT6Du"
      }
    },
    {
      "cell_type": "markdown",
      "metadata": {
        "id": "RgT5XJsZ429L"
      },
      "source": [
        "## Devolución de cambio por técnica voraz\n",
        "\n",
        "Resuelve el [Problema del Cambio de Moneda](https://es.wikipedia.org/wiki/Problema_de_cambio_de_monedas) utilizando una técnica voraz."
      ]
    },
    {
      "cell_type": "code",
      "execution_count": 3,
      "metadata": {
        "id": "uJtftBLU4-ap",
        "colab": {
          "base_uri": "https://localhost:8080/"
        },
        "outputId": "180eccd6-7ee0-49bd-e6a5-e15104910da5"
      },
      "outputs": [
        {
          "output_type": "stream",
          "name": "stdout",
          "text": [
            "Monedas usadas: [3, 1, 2]\n",
            "Valores de monedas: [25, 10, 1]\n"
          ]
        },
        {
          "output_type": "execute_result",
          "data": {
            "text/plain": [
              "0"
            ]
          },
          "metadata": {},
          "execution_count": 3
        }
      ],
      "source": [
        "# Problema del cambio de moneda\n",
        "def cambioMoneda(saldo, monedas):\n",
        "  # Ordenamos las monedas de mayor a menor\n",
        "  monedas.sort(reverse=True)\n",
        "  # Inicializamos la lista para contar cuántas monedas de cada denominación se usan\n",
        "  monedasValue = [0] * len(monedas)\n",
        "\n",
        "  # Iteramos sobre cada moneda empezando por la de mayor valor\n",
        "  for i in range(len(monedas)):\n",
        "    # Mientras la moneda actual sea menor o igual al saldo restante\n",
        "    while monedas[i] <= saldo:\n",
        "      # Incrementamos el contador de esta moneda\n",
        "      monedasValue[i] += 1\n",
        "      # Reducimos el saldo restante en el valor de la moneda\n",
        "      saldo -= monedas[i]\n",
        "\n",
        "  # Recopilamos los índices de las monedas que se usaron (aquellas cuyo contador es mayor a 0)\n",
        "  finalIndex = [i for i, count in enumerate(monedasValue) if count > 0]\n",
        "  # Recopilamos las cantidades de monedas usadas\n",
        "  monedasUsadas = [monedasValue[i] for i in finalIndex]\n",
        "  # Recopilamos los valores de las monedas usadas\n",
        "  valoresMonedas = [monedas[i] for i in finalIndex]\n",
        "\n",
        "  # Imprimimos la cantidad de monedas usadas de cada denominación\n",
        "  print(\"Monedas usadas:\", monedasUsadas)\n",
        "  # Imprimimos los valores de las monedas usadas\n",
        "  print(\"Valores de monedas:\", valoresMonedas)\n",
        "\n",
        "  # Retornamos el saldo restante (debería ser 0 si se puede hacer el cambio exacto)\n",
        "  return saldo\n",
        "\n",
        "# Ejemplo de uso\n",
        "saldo = 87\n",
        "monedas = [1, 5, 10, 25]\n",
        "cambioMoneda(saldo, monedas)"
      ]
    },
    {
      "cell_type": "markdown",
      "metadata": {
        "id": "g8M9GTvy_Fa3"
      },
      "source": [
        "## N-Reinas por técnica de vuelta atrás\n",
        "Resuelve el [Problema de las N-Reinas](https://es.wikipedia.org/wiki/Problema_de_las_ocho_reinas) en un tablero de dimensión N mediante la técnica de la vuelta atrás (backtraking)."
      ]
    },
    {
      "cell_type": "code",
      "execution_count": 2,
      "metadata": {
        "id": "FqOPyCmv_K65",
        "colab": {
          "base_uri": "https://localhost:8080/"
        },
        "outputId": "7668efc3-debf-4434-f687-03809208212b"
      },
      "outputs": [
        {
          "output_type": "stream",
          "name": "stdout",
          "text": [
            "Se encontraron 2 soluciones para un tablero de 4x4:\n",
            "Se encontraron 40 soluciones para un tablero de 7x7:\n"
          ]
        }
      ],
      "source": [
        "# Problema de las N-Reinas\n",
        "def es_seguro(tablero, fila, col, N):\n",
        "    # Verifica si es seguro colocar una reina en la posición (fila, col)\n",
        "\n",
        "    # Verifica la columna actual\n",
        "    for i in range(fila):\n",
        "        if tablero[i] == col:\n",
        "            return False\n",
        "\n",
        "    # Verifica la diagonal principal\n",
        "    for i in range(fila):\n",
        "        if tablero[i] - i == col - fila:\n",
        "            return False\n",
        "\n",
        "    # Verifica la diagonal secundaria\n",
        "    for i in range(fila):\n",
        "        if tablero[i] + i == col + fila:\n",
        "            return False\n",
        "\n",
        "    # Si no hay conflictos, la posición es segura\n",
        "    return True\n",
        "\n",
        "def N_Reinas(N):\n",
        "    # Función principal para resolver el problema de las N-Reinas\n",
        "\n",
        "    def backtrack(fila):\n",
        "        # Función recursiva que intenta colocar una reina en cada fila\n",
        "        if fila == N:\n",
        "            # Si todas las reinas están colocadas (base del caso recursivo)\n",
        "            soluciones.append(tablero[:])  # Agrega una copia de la solución actual\n",
        "            return\n",
        "\n",
        "        for col in range(N):\n",
        "            # Itera sobre todas las columnas para la fila actual\n",
        "            if es_seguro(tablero, fila, col, N):\n",
        "                # Si es seguro colocar la reina en (fila, col)\n",
        "                tablero[fila] = col  # Coloca la reina en la columna actual\n",
        "                backtrack(fila + 1)  # Llama recursivamente para la siguiente fila\n",
        "                tablero[fila] = -1  # Realiza el backtracking (quita la reina)\n",
        "\n",
        "    tablero = [-1] * N  # Inicializa el tablero con -1 indicando posiciones vacías\n",
        "    soluciones = []  # Lista para almacenar todas las soluciones\n",
        "    backtrack(0)  # Comienza el proceso de backtracking desde la fila 0\n",
        "    return soluciones  # Retorna todas las soluciones encontradas\n",
        "\n",
        "# Ejemplo de uso\n",
        "N = 4\n",
        "soluciones = N_Reinas(N)\n",
        "print(f\"Se encontraron {len(soluciones)} soluciones para un tablero de {N}x{N}:\")\n",
        "N = 7\n",
        "soluciones = N_Reinas(N)\n",
        "print(f\"Se encontraron {len(soluciones)} soluciones para un tablero de {N}x{N}:\")"
      ]
    },
    {
      "cell_type": "code",
      "source": [
        "from google.colab import drive\n",
        "drive.mount('/content/drive')\n",
        "\n",
        "!jupyter nbconvert --to html \"/content/drive/MyDrive/Colab Notebooks/Algoritmos_R1_VF.ipynb\"\n",
        "\n",
        "from google.colab import files\n",
        "files.download(\"/content/drive/MyDrive/Colab Notebooks/Algoritmos_R1_VF.html\")"
      ],
      "metadata": {
        "colab": {
          "base_uri": "https://localhost:8080/",
          "height": 69
        },
        "id": "Y30jl9xWe3Oa",
        "outputId": "f50c6d45-0223-4e4e-abc0-8cd107f1f074"
      },
      "execution_count": null,
      "outputs": [
        {
          "output_type": "stream",
          "name": "stdout",
          "text": [
            "Drive already mounted at /content/drive; to attempt to forcibly remount, call drive.mount(\"/content/drive\", force_remount=True).\n",
            "[NbConvertApp] Converting notebook /content/drive/MyDrive/Colab Notebooks/Algoritmos_R1_Vf.ipynb to html\n",
            "[NbConvertApp] Writing 656698 bytes to /content/drive/MyDrive/Colab Notebooks/Algoritmos_R1_Vf.html\n"
          ]
        },
        {
          "output_type": "display_data",
          "data": {
            "text/plain": [
              "<IPython.core.display.Javascript object>"
            ],
            "application/javascript": [
              "\n",
              "    async function download(id, filename, size) {\n",
              "      if (!google.colab.kernel.accessAllowed) {\n",
              "        return;\n",
              "      }\n",
              "      const div = document.createElement('div');\n",
              "      const label = document.createElement('label');\n",
              "      label.textContent = `Downloading \"${filename}\": `;\n",
              "      div.appendChild(label);\n",
              "      const progress = document.createElement('progress');\n",
              "      progress.max = size;\n",
              "      div.appendChild(progress);\n",
              "      document.body.appendChild(div);\n",
              "\n",
              "      const buffers = [];\n",
              "      let downloaded = 0;\n",
              "\n",
              "      const channel = await google.colab.kernel.comms.open(id);\n",
              "      // Send a message to notify the kernel that we're ready.\n",
              "      channel.send({})\n",
              "\n",
              "      for await (const message of channel.messages) {\n",
              "        // Send a message to notify the kernel that we're ready.\n",
              "        channel.send({})\n",
              "        if (message.buffers) {\n",
              "          for (const buffer of message.buffers) {\n",
              "            buffers.push(buffer);\n",
              "            downloaded += buffer.byteLength;\n",
              "            progress.value = downloaded;\n",
              "          }\n",
              "        }\n",
              "      }\n",
              "      const blob = new Blob(buffers, {type: 'application/binary'});\n",
              "      const a = document.createElement('a');\n",
              "      a.href = window.URL.createObjectURL(blob);\n",
              "      a.download = filename;\n",
              "      div.appendChild(a);\n",
              "      a.click();\n",
              "      div.remove();\n",
              "    }\n",
              "  "
            ]
          },
          "metadata": {}
        },
        {
          "output_type": "display_data",
          "data": {
            "text/plain": [
              "<IPython.core.display.Javascript object>"
            ],
            "application/javascript": [
              "download(\"download_5f98f7c5-4c21-431a-8970-a3eebf8dcd1a\", \"Algoritmos_R1_Vf.html\", 657717)"
            ]
          },
          "metadata": {}
        }
      ]
    }
  ],
  "metadata": {
    "colab": {
      "provenance": [],
      "include_colab_link": true
    },
    "kernelspec": {
      "display_name": "Python 3 (ipykernel)",
      "language": "python",
      "name": "python3"
    },
    "language_info": {
      "codemirror_mode": {
        "name": "ipython",
        "version": 3
      },
      "file_extension": ".py",
      "mimetype": "text/x-python",
      "name": "python",
      "nbconvert_exporter": "python",
      "pygments_lexer": "ipython3",
      "version": "3.11.5"
    }
  },
  "nbformat": 4,
  "nbformat_minor": 0
}